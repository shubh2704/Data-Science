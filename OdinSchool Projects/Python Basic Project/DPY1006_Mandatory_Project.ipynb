{
  "nbformat": 4,
  "nbformat_minor": 0,
  "metadata": {
    "colab": {
      "provenance": []
    },
    "kernelspec": {
      "name": "python3",
      "display_name": "Python 3"
    },
    "language_info": {
      "name": "python"
    }
  },
  "cells": [
    {
      "cell_type": "markdown",
      "source": [
        "Q1: You are working in a bank and you have been given two lists of the employees who worked in 2021. Employee’s name in list 1 are Ramesh, Suresh, Mahesh, Ali, Jacob and Saritha. List 2 contains the names of Ali, Mukesh, Mahesh, Jacob, Sai, Sarita. Please write a program which helps to identify people who are common in both lists. Please do not use any in-built function. "
      ],
      "metadata": {
        "id": "7ARVV3LKjdaJ"
      }
    },
    {
      "cell_type": "code",
      "source": [
        "list1 = ['Ramesh', 'Suresh', 'Mahesh', 'Ali', 'Jacob']\n",
        "list2 = ['Ali', 'Mukesh', 'Mahesh', 'Jacob', 'Sai', 'Sarita']\n",
        "Common = []\n",
        "for i in list1:\n",
        "    if i in list2:\n",
        "        Common.append(i)\n",
        "print('Common elements are: ', Common)"
      ],
      "metadata": {
        "colab": {
          "base_uri": "https://localhost:8080/"
        },
        "id": "muS2Id1Ujn_t",
        "outputId": "dbc3186a-4859-4a86-f9a3-6e422e2d0337"
      },
      "execution_count": 2,
      "outputs": [
        {
          "output_type": "stream",
          "name": "stdout",
          "text": [
            "Common elements are:  ['Mahesh', 'Ali', 'Jacob']\n"
          ]
        }
      ]
    },
    {
      "cell_type": "markdown",
      "source": [
        "Q2: While entering data, someone entered a few names as a common string “Ramesh Suresh Mohit”. Please write a program which separates all the names and convert them into a list. Once converted in a list, please write a program which adds their age. \n",
        "\n",
        "Ramesh :  25\n",
        "\n",
        "Suresh : 22\n",
        "\n",
        "Mohit : 26"
      ],
      "metadata": {
        "id": "w0IeeH7sjtuZ"
      }
    },
    {
      "cell_type": "code",
      "source": [
        "sum_of_age= 0\n",
        "list2 = []\n",
        "string = (\"Ramesh Suresh Mohit\")\n",
        "name = string.split(' ')\n",
        "age_dict = {\"Ramesh\": 25, \"Suresh\": 22, \"Mohit\": 26}\n",
        "\n",
        "for value in name:\n",
        "    if value in age_dict:\n",
        "        sum_of_age = sum_of_age + age_dict[value]\n",
        "print (sum_of_age)"
      ],
      "metadata": {
        "colab": {
          "base_uri": "https://localhost:8080/"
        },
        "id": "F4XsgfwYkIf7",
        "outputId": "de282472-ecf6-4bd8-b503-6dd3b189ad7d"
      },
      "execution_count": 1,
      "outputs": [
        {
          "output_type": "stream",
          "name": "stdout",
          "text": [
            "73\n"
          ]
        }
      ]
    },
    {
      "cell_type": "markdown",
      "source": [
        "Q3: A few students from a university have taken three exams\n",
        "\n",
        "Name = Sam, Jacy, Tom, Steve\n",
        "\n",
        "Python = 25, 26, 29, 28\n",
        "\n",
        "Statistics = 23, 21, 19, 25\n",
        "\n",
        "SQL = 29, 27, 28, 25\n",
        "\n",
        "\n",
        "Please write a program which calculates mean values (no in-built function for mean) of all three tests and print the highest mean value. Addition and other functions are allowed. Please also report who scored the highest mark in python using programming construct. "
      ],
      "metadata": {
        "id": "cqn05cq_kkDf"
      }
    },
    {
      "cell_type": "code",
      "source": [
        "def highest_mean_and_score():\n",
        "\n",
        "    Name = ['Sam', 'Jacy', 'Tom', 'Steve']\n",
        "    Python = [25, 26, 29, 28]\n",
        "    Statistics = [23, 21, 19, 25]\n",
        "    SQL = [29, 27, 28, 25]\n",
        "\n",
        "    python_total = sum(Python)\n",
        "    statistics_total = sum(Statistics)\n",
        "    SQL_total = sum(SQL)\n",
        "\n",
        "    avg_python = python_total/len(Python)\n",
        "    avg_stats = statistics_total/len(Statistics)\n",
        "    avg_sql = SQL_total/len(SQL)\n",
        "\n",
        "    highest_mean = max(avg_python,avg_stats,avg_sql)\n",
        "\n",
        "    if highest_mean == avg_python:\n",
        "        print(\"Python has hightest mean\", avg_python)\n",
        "    elif highest_mean == avg_stats:\n",
        "        print(\"Statistics has hightest mean\", avg_stats)\n",
        "    else:\n",
        "        print(\"SQL has hightest mean\", avg_sql)\n",
        " \n",
        "    for i in range(len(Python)):\n",
        "        if Python[i] == max(Python):\n",
        "            print(f'{Name[i]} got marks {Python[i]} which is highest')\n",
        "        \n",
        "highest_mean_and_score()"
      ],
      "metadata": {
        "colab": {
          "base_uri": "https://localhost:8080/"
        },
        "id": "akucWACpkom7",
        "outputId": "266d837c-4ebf-4182-89c7-5b3061270f7a"
      },
      "execution_count": 3,
      "outputs": [
        {
          "output_type": "stream",
          "name": "stdout",
          "text": [
            "SQL has hightest mean 27.25\n",
            "Tom got marks 29 which is highest\n"
          ]
        }
      ]
    },
    {
      "cell_type": "markdown",
      "source": [
        "Q4: You are working in a medical store. A patient came to your medical store and asked to buy 2 strips of paracetamol, 3 strips of azithromycin and 5 strips of Vitamin C. One strip of paracetamol costs Rs 35, one strip of azithromycin costs Rs 49 and one strip of vitamin c costs Rs. 33. Patient gave you Rs 2000. Please tell us what is the total cost of each medicine, total cost of all medicine and how much money you refunded to the patient?  "
      ],
      "metadata": {
        "id": "fbIKY0mJlMK_"
      }
    },
    {
      "cell_type": "code",
      "source": [
        "azithromycin = int(input(\"Number of azithromycin: \")) \n",
        "paracetamol = int(input(\"Number of paracetamol: \")) \n",
        "vitaminc = int(input(\"Number of vitaminc: \")) \n",
        "\n",
        "cost_para = float(input(\"cost of paracetamol: \"))\n",
        "cost_azith = float(input(\"Cost of azithromycin: \")) \n",
        "cost_vita = float(input(\"Cost of vitaminc: \")) \n",
        "\n",
        "Amount_received = int(input(\"Amount received by customer: \")) \n",
        "\n",
        "total_azith = azithromycin * cost_azith\n",
        "total_para = paracetamol * cost_para\n",
        "total_vita = vitaminc * cost_vita\n",
        "\n",
        "total_cost = total_azith + total_para + total_vita\n",
        "\n",
        "Money_refunded = Amount_received - total_cost\n",
        "additional_amount = total_cost - Amount_received\n",
        "\n",
        "print(\"total cost of azithromycin is:\", total_azith)\n",
        "print(\"total cost of paracetamol is:\", total_para)\n",
        "print(\"total cost of vitaminc is:\", total_vita)\n",
        "print(\"total cost of all medicine is:\", total_cost)\n",
        "\n",
        "if Amount_received > total_cost:\n",
        "    print(\"The refund amount is: \", Money_refunded)\n",
        "else:\n",
        "    print(\"Please provide additional amount of: \",additional_amount )"
      ],
      "metadata": {
        "colab": {
          "base_uri": "https://localhost:8080/"
        },
        "id": "ooFa_xfKlQgm",
        "outputId": "f749c72b-5999-4332-da40-da7a80d0f55a"
      },
      "execution_count": 4,
      "outputs": [
        {
          "output_type": "stream",
          "name": "stdout",
          "text": [
            "Number of azithromycin: 3\n",
            "Number of paracetamol: 2\n",
            "Number of vitaminc: 5\n",
            "cost of paracetamol: 35\n",
            "Cost of azithromycin: 49\n",
            "Cost of vitaminc: 33\n",
            "Amount received by customer: 2000\n",
            "total cost of azithromycin is: 147.0\n",
            "total cost of paracetamol is: 70.0\n",
            "total cost of vitaminc is: 165.0\n",
            "total cost of all medicine is: 382.0\n",
            "The refund amount is:  1618.0\n"
          ]
        }
      ]
    },
    {
      "cell_type": "markdown",
      "source": [
        "Q5: Accept a sentence as input and find the number of vowels in it. Assume that the sentence has no punctuation marks. For example: I am learning python contains 6 vowels. This function should be applicable for all other different sentences."
      ],
      "metadata": {
        "id": "66rf7OWdlpUn"
      }
    },
    {
      "cell_type": "code",
      "source": [
        "def vowel_count(string):\n",
        "    count = 0\n",
        "    vowels = 'AEIOUaeiou'\n",
        "    for i in string:\n",
        "        if i in vowels:\n",
        "            count = count + 1\n",
        "    print(f'The count of vowel is {count}')\n",
        "    \n",
        "string = input('Enter the string:')\n",
        "vowel_count(string)"
      ],
      "metadata": {
        "colab": {
          "base_uri": "https://localhost:8080/"
        },
        "id": "Ex02ZnTSmnO8",
        "outputId": "b2120cd4-0488-484c-87f9-530374ff86d9"
      },
      "execution_count": 6,
      "outputs": [
        {
          "output_type": "stream",
          "name": "stdout",
          "text": [
            "Enter the string:I am learning python contains 6 vowels\n",
            "The count of vowel is 11\n"
          ]
        }
      ]
    },
    {
      "cell_type": "markdown",
      "source": [
        "Q6: You have been appointed by the election commission to create a website. Your first task is to work on a program which tells candidates if they are eligible for voting or not. If they are eligible your output should be ‘Congrats! You are eligible’, otherwise it should tell that you have to return after X number of years. Eligibility criteria for voting is 18 years. \n",
        "\n",
        "\n",
        "For example, If someone is 18 or above your output should be ‘Congrats! You are eligible’. If someone’s age is 15 years it should print output as ‘return after 3 years’.   "
      ],
      "metadata": {
        "id": "4eIHphA7m8U1"
      }
    },
    {
      "cell_type": "code",
      "source": [
        "def eligibily(age):\n",
        "\n",
        "    age_left = 18-age\n",
        "\n",
        "    if age >= 18:\n",
        "        print(\"Congrats! You are eligible\")\n",
        "    else:\n",
        "        print(f'return after {age_left} years')\n",
        "\n",
        "age = int(input(\"Enter your age: \"))\n",
        "eligibily(age)"
      ],
      "metadata": {
        "colab": {
          "base_uri": "https://localhost:8080/"
        },
        "id": "q5GhYhSdnCQM",
        "outputId": "b2cd43a4-1d44-4a28-c4c8-9e51dd08322f"
      },
      "execution_count": 7,
      "outputs": [
        {
          "output_type": "stream",
          "name": "stdout",
          "text": [
            "Enter your age: 18\n",
            "Congrats! You are eligible\n"
          ]
        }
      ]
    }
  ]
}